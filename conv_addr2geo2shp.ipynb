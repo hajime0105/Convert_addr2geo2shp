{
 "cells": [
  {
   "cell_type": "markdown",
   "metadata": {},
   "source": [
    "# 住所から緯度経度取得\n",
    "<https://qiita.com/paulxll/items/7bc4a5b0529a8d784673>"
   ]
  },
  {
   "cell_type": "markdown",
   "metadata": {},
   "source": [
    "## 元ソースファイル"
   ]
  },
  {
   "cell_type": "code",
   "execution_count": 1,
   "metadata": {},
   "outputs": [],
   "source": [
    "import requests\n",
    "import time \n",
    "from bs4 import BeautifulSoup\n",
    "from tqdm import tqdm\n",
    "\n",
    "url = 'http://www.geocoding.jp/api/'\n",
    "\n",
    "def coordinate(address):\n",
    "    payload = {'q': address}\n",
    "    html = requests.get(url, params=payload)\n",
    "    soup = BeautifulSoup(html.content, \"html.parser\")\n",
    "    if soup.find('error'):\n",
    "        raise ValueError(f\"Invalid address submitted. {address}\")\n",
    "    lat = soup.find('lat').string\n",
    "    lon = soup.find('lng').string\n",
    "    return lat, lon\n",
    "\n",
    "def coordinates(addresses, interval=10, progress=True):\n",
    "    coordinates = []\n",
    "    for address in progress and tqdm(addresses) or addresses:\n",
    "        coordinates.append(coordinate(address))\n",
    "        time.sleep(interval)\n",
    "    return coordinates"
   ]
  },
  {
   "cell_type": "markdown",
   "metadata": {},
   "source": [
    "## 追加ソースファイル"
   ]
  },
  {
   "cell_type": "code",
   "execution_count": 2,
   "metadata": {},
   "outputs": [],
   "source": [
    "import geopandas as gpd\n",
    "import pandas as pd\n",
    "import numpy as np"
   ]
  },
  {
   "cell_type": "code",
   "execution_count": 21,
   "metadata": {},
   "outputs": [],
   "source": [
    "def addr2geo(data_path):\n",
    "    data = pd.read_csv(data_path)\n",
    "    data['Latitude'] = None\n",
    "    data['Longitude'] = None\n",
    "    data['geometry'] = None\n",
    "    for i in tqdm(range(len(data))):\n",
    "        data.Latitude[i], data.Longitude[i] = coordinate(data.Address[i])\n",
    "        time.sleep(10)\n",
    "    data['geometry'] = gpd.points_from_xy(data.Longitude.astype(np.float64), data.Latitude.astype(np.float64))\n",
    "    result = gpd.GeoDataFrame(data, geometry=data.geometry)\n",
    "    return result\n",
    "\n",
    "def geo2shp(gdf, result_path):\n",
    "    gdf.to_file(driver='ESRI Shapefile', filename=result_path)"
   ]
  }
 ],
 "metadata": {
  "kernelspec": {
   "display_name": "Python 3",
   "language": "python",
   "name": "python3"
  },
  "language_info": {
   "codemirror_mode": {
    "name": "ipython",
    "version": 3
   },
   "file_extension": ".py",
   "mimetype": "text/x-python",
   "name": "python",
   "nbconvert_exporter": "python",
   "pygments_lexer": "ipython3",
   "version": "3.6.8"
  }
 },
 "nbformat": 4,
 "nbformat_minor": 2
}
